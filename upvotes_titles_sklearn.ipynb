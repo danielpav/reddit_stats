{
 "cells": [
  {
   "cell_type": "code",
   "execution_count": null,
   "metadata": {},
   "outputs": [],
   "source": [
    "import pandas as pd\n",
    "from sklearn.feature_extraction.text import TfidfVectorizer\n",
    "import pprint\n",
    "pprint = pprint.PrettyPrinter(indent=2).pprint\n",
    "\n",
    "# Assuming you have a DataFrame called 'df' with columns 'Title' and 'Score'\n",
    "titles = df['Title'].tolist()\n",
    "scores = df['Score'].tolist()\n",
    "submitter = df['Submitter'].tolist()\n",
    "\n",
    "min_words = 3\n",
    "\n",
    "# Tokenize the titles and calculate the TF-IDF scores\n",
    "vectorizer = TfidfVectorizer(ngram_range=(min_words,6), stop_words='english')\n",
    "tfidf_matrix = vectorizer.fit_transform(titles)\n",
    "\n",
    "# Create a DataFrame to store the words and their corresponding TF-IDF scores\n",
    "# words_tfidf_df = pd.DataFrame(tfidf_matrix.toarray(), columns=vectorizer.get_feature_names_out())\n",
    "phrases_tfidf_df = pd.DataFrame(tfidf_matrix.toarray(), columns=vectorizer.get_feature_names_out())\n",
    "\n",
    "# Add the 'Score' column to the DataFrame\n",
    "# words_tfidf_df['Score'] = scores\n",
    "\n",
    "# Find the highest correlated words based on their TF-IDF scores\n",
    "#highest_correlated_words = words_tfidf_df.drop('Score', axis=1).sum().sort_values(ascending=False).head(20).index.tolist()\n",
    "highest_correlated_phrases = phrases_tfidf_df.sum().sort_values(ascending=False).head(20).index.tolist()\n",
    "\n",
    "titles_with_phrases = []\n",
    "\n",
    "for i in range(20):\n",
    "    # Select a single phrase from the list based on its index (e.g., index 0)\n",
    "    selected_phrase_index = i\n",
    "    selected_phrase = highest_correlated_phrases[selected_phrase_index]\n",
    "\n",
    "    # Get the indices of rows (titles) that contain the desired phrases\n",
    "    indices_with_phrase = phrases_tfidf_df[phrases_tfidf_df[selected_phrase] > 0].index.tolist()\n",
    "\n",
    "    # Extract the titles that contain the desired phrases\n",
    "    titles__with_phrase = [[titles[i], submitter[i]] for i in indices_with_phrase]\n",
    "\n",
    "    titles_with_phrases.append(titles__with_phrase)\n",
    "\n",
    "\n",
    "#print(\"Top correlated words with high scores:\")\n",
    "#print(*highest_correlated_words, sep='\\n')\n",
    "print(f\"{subreddit}: Top correlated {min_words}-word phrases with high scores:\")\n",
    "print(*highest_correlated_phrases, sep='\\n')\n",
    "print('\\n')\n",
    "\n",
    "print(\"Titles that contain the phrases:\")\n",
    "pprint(titles_with_phrases)"
   ]
  },
  {
   "cell_type": "code",
   "execution_count": null,
   "metadata": {},
   "outputs": [],
   "source": []
  }
 ],
 "metadata": {
  "kernelspec": {
   "display_name": "venv",
   "language": "python",
   "name": "python3"
  },
  "language_info": {
   "codemirror_mode": {
    "name": "ipython",
    "version": 3
   },
   "file_extension": ".py",
   "mimetype": "text/x-python",
   "name": "python",
   "nbconvert_exporter": "python",
   "pygments_lexer": "ipython3",
   "version": "3.10.6"
  },
  "orig_nbformat": 4
 },
 "nbformat": 4,
 "nbformat_minor": 2
}
