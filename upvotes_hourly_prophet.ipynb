{
 "cells": [
  {
   "cell_type": "code",
   "execution_count": null,
   "metadata": {},
   "outputs": [],
   "source": [
    "\n",
    "# db reddit; table posts; id:integer, submitter:text, subreddit:text, title:text, unix_time:double precision, upvotes:integer\n",
    "\n",
    "import pandas as pd\n",
    "from prophet import Prophet\n",
    "from prophet.plot import plot_plotly, plot_components_plotly\n",
    "import get_posts_from_db as db\n",
    "\n",
    "df = db.get_posts_from_db()\n",
    "\n",
    "# Prophet\n",
    "m = Prophet(changepoint_prior_scale=0.01).fit(df)\n",
    "future = m.make_future_dataframe(periods=300, freq='H')\n",
    "forecast = m.predict(future)\n",
    "fig1 = m.plot(forecast).savefig('prophet_forecast.png')\n",
    "plot_plotly(m, forecast)"
   ]
  }
 ],
 "metadata": {
  "kernelspec": {
   "display_name": "Python 3",
   "language": "python",
   "name": "python3"
  },
  "language_info": {
   "codemirror_mode": {
    "name": "ipython",
    "version": 3
   },
   "file_extension": ".py",
   "mimetype": "text/x-python",
   "name": "python",
   "nbconvert_exporter": "python",
   "pygments_lexer": "ipython3",
   "version": "3.10.6"
  },
  "orig_nbformat": 4
 },
 "nbformat": 4,
 "nbformat_minor": 2
}
